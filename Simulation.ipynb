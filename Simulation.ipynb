{
 "cells": [
  {
   "cell_type": "code",
   "execution_count": 37,
   "metadata": {},
   "outputs": [
    {
     "name": "stdout",
     "output_type": "stream",
     "text": [
      "Step 0: [6, 9]\n",
      "Step 1: [1, 3]\n",
      "Step 2: [0, 1]\n",
      "Step 3: [4, 0]\n",
      "Step 4: [9, 5]\n",
      "Step 5: [6, 7]\n",
      "Step 6: [9, 8]\n",
      "Step 7: [9, 0]\n",
      "Step 8: [5, 4]\n",
      "Step 9: [1, 6]\n",
      "Step 10: [4, 9]\n",
      "Step 11: [9, 3]\n",
      "Step 12: [2, 5]\n",
      "Step 13: [5, 6]\n",
      "Step 14: [0, 9]\n",
      "Step 15: [3, 5]\n",
      "Step 16: [0, 7]\n",
      "Step 17: [6, 3]\n",
      "Step 18: [3, 7]\n",
      "Step 19: [7, 4]\n",
      "Step 20: [0, 3]\n",
      "Step 21: [2, 1]\n",
      "Step 22: [5, 1]\n",
      "Step 23: [4, 6]\n",
      "Step 24: [6, 1]\n",
      "Step 25: [2, 2]\n",
      "Step 26: [4, 4]\n",
      "Step 27: [1, 0]\n",
      "Step 28: [4, 7]\n",
      "Step 29: [6, 6]\n",
      "Step 30: [3, 5]\n",
      "Step 31: [3, 5]\n",
      "Step 32: [3, 5]\n",
      "Step 33: [3, 5]\n",
      "[3, 5]\n"
     ]
    }
   ],
   "source": [
    "import numpy as np\n",
    "\n",
    "from Map import ObjectMap, FailProbMap, ProbMap, CountMap\n",
    "from WeightedGreedy import WeightedGreedy\n",
    "\n",
    "SIZE = 10\n",
    "NUM_OBJECTS = 1\n",
    "\n",
    "\n",
    "def main():\n",
    "    # Inicializar Mapas de: probabilidad de falla (15-40%), ubicacion, mapa probabilidades, countMap\n",
    "    fail_prob = FailProbMap(SIZE)\n",
    "    object_map = ObjectMap(SIZE, NUM_OBJECTS)\n",
    "    prob_map = ProbMap(SIZE)\n",
    "    # prob_map.generate_prob_random()\n",
    "    prob_map.generate_prob_from_map(object_map)\n",
    "    count_map = CountMap(SIZE)\n",
    "    greedy = WeightedGreedy(prob_map, count_map)\n",
    "    print(greedy.iterate(object_map, fail_prob))\n",
    "\n",
    "main()\n",
    "# TODO: Recalcular la prioridad en cada step como una ponderacion de la apriori + distancia del cell actual\n",
    "# TODO: Crear Greedy sin update de prioridades para compararlo"
   ]
  },
  {
   "cell_type": "code",
   "execution_count": null,
   "metadata": {},
   "outputs": [],
   "source": []
  }
 ],
 "metadata": {
  "kernelspec": {
   "display_name": "Python 3",
   "language": "python",
   "name": "python3"
  },
  "language_info": {
   "codemirror_mode": {
    "name": "ipython",
    "version": 3
   },
   "file_extension": ".py",
   "mimetype": "text/x-python",
   "name": "python",
   "nbconvert_exporter": "python",
   "pygments_lexer": "ipython3",
   "version": "3.5.4"
  }
 },
 "nbformat": 4,
 "nbformat_minor": 2
}
