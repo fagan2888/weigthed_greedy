{
 "cells": [
  {
   "cell_type": "code",
   "execution_count": 30,
   "metadata": {},
   "outputs": [],
   "source": [
    "def print_summary(successes, distances, steps):\n",
    "    print(\"Successes: \"+str(int(100*np.mean(successes)))+\"%\")\n",
    "    print(\"Steps: \"+str(int(np.mean(steps)))+\".  Confidence interval=(\"+str(np.percentile(steps,5))+\",\"+str(np.percentile(steps,95))+\")\")\n",
    "    print(\"Distance: \"+str(round(np.mean(distances), 0))+\". Confidence interval=(\"+str(int(np.percentile(distances,5)))+\",\"+str(int(np.percentile(distances,95)))+\")\")\n"
   ]
  },
  {
   "cell_type": "code",
   "execution_count": 29,
   "metadata": {},
   "outputs": [
    {
     "ename": "KeyboardInterrupt",
     "evalue": "",
     "output_type": "error",
     "traceback": [
      "\u001b[0;31m---------------------------------------------------------------------------\u001b[0m",
      "\u001b[0;31mKeyboardInterrupt\u001b[0m                         Traceback (most recent call last)",
      "\u001b[0;32m<ipython-input-29-6364e5453693>\u001b[0m in \u001b[0;36m<module>\u001b[0;34m\u001b[0m\n\u001b[1;32m     20\u001b[0m     \u001b[0mcount_map\u001b[0m \u001b[0;34m=\u001b[0m \u001b[0mCountMap\u001b[0m\u001b[0;34m(\u001b[0m\u001b[0mSIZE\u001b[0m\u001b[0;34m)\u001b[0m\u001b[0;34m\u001b[0m\u001b[0m\n\u001b[1;32m     21\u001b[0m     \u001b[0mgreedy\u001b[0m \u001b[0;34m=\u001b[0m \u001b[0mWeightedGreedy\u001b[0m\u001b[0;34m(\u001b[0m\u001b[0mprob_map\u001b[0m\u001b[0;34m,\u001b[0m \u001b[0mcount_map\u001b[0m\u001b[0;34m)\u001b[0m\u001b[0;34m\u001b[0m\u001b[0m\n\u001b[0;32m---> 22\u001b[0;31m     \u001b[0mres\u001b[0m\u001b[0;34m=\u001b[0m\u001b[0;34m(\u001b[0m\u001b[0mgreedy\u001b[0m\u001b[0;34m.\u001b[0m\u001b[0miterate_distance\u001b[0m\u001b[0;34m(\u001b[0m\u001b[0mobject_map\u001b[0m\u001b[0;34m,\u001b[0m \u001b[0mfail_prob\u001b[0m\u001b[0;34m,\u001b[0m \u001b[0mcoloring\u001b[0m\u001b[0;34m=\u001b[0m\u001b[0;32mFalse\u001b[0m\u001b[0;34m,\u001b[0m \u001b[0mprint\u001b[0m\u001b[0;34m=\u001b[0m\u001b[0;32mFalse\u001b[0m\u001b[0;34m)\u001b[0m\u001b[0;34m)\u001b[0m\u001b[0;34m\u001b[0m\u001b[0m\n\u001b[0m\u001b[1;32m     23\u001b[0m     \u001b[0msuccesses\u001b[0m\u001b[0;34m.\u001b[0m\u001b[0mappend\u001b[0m\u001b[0;34m(\u001b[0m\u001b[0mres\u001b[0m\u001b[0;34m[\u001b[0m\u001b[0;36m2\u001b[0m\u001b[0;34m]\u001b[0m\u001b[0;34m)\u001b[0m\u001b[0;34m\u001b[0m\u001b[0m\n\u001b[1;32m     24\u001b[0m     \u001b[0mdistances\u001b[0m\u001b[0;34m.\u001b[0m\u001b[0mappend\u001b[0m\u001b[0;34m(\u001b[0m\u001b[0mres\u001b[0m\u001b[0;34m[\u001b[0m\u001b[0;36m1\u001b[0m\u001b[0;34m]\u001b[0m\u001b[0;34m)\u001b[0m\u001b[0;34m\u001b[0m\u001b[0m\n",
      "\u001b[0;32m~/personal/itam/algoritmos/proyecto/WeightedGreedy.py\u001b[0m in \u001b[0;36miterate_distance\u001b[0;34m(self, object_map, fail_prob, coloring, print)\u001b[0m\n\u001b[1;32m     95\u001b[0m             \u001b[0;32mfor\u001b[0m \u001b[0mi\u001b[0m \u001b[0;32min\u001b[0m \u001b[0mrange\u001b[0m\u001b[0;34m(\u001b[0m\u001b[0mself\u001b[0m\u001b[0;34m.\u001b[0m\u001b[0mprob_map\u001b[0m\u001b[0;34m.\u001b[0m\u001b[0msize\u001b[0m\u001b[0;34m)\u001b[0m\u001b[0;34m:\u001b[0m\u001b[0;34m\u001b[0m\u001b[0m\n\u001b[1;32m     96\u001b[0m                 \u001b[0;32mfor\u001b[0m \u001b[0mj\u001b[0m \u001b[0;32min\u001b[0m \u001b[0mrange\u001b[0m\u001b[0;34m(\u001b[0m\u001b[0mself\u001b[0m\u001b[0;34m.\u001b[0m\u001b[0mprob_map\u001b[0m\u001b[0;34m.\u001b[0m\u001b[0msize\u001b[0m\u001b[0;34m)\u001b[0m\u001b[0;34m:\u001b[0m\u001b[0;34m\u001b[0m\u001b[0m\n\u001b[0;32m---> 97\u001b[0;31m                     \u001b[0mnprob\u001b[0m\u001b[0;34m=\u001b[0m\u001b[0;34m-\u001b[0m\u001b[0mself\u001b[0m\u001b[0;34m.\u001b[0m\u001b[0mprob_map\u001b[0m\u001b[0;34m.\u001b[0m\u001b[0mmap\u001b[0m\u001b[0;34m[\u001b[0m\u001b[0mi\u001b[0m\u001b[0;34m]\u001b[0m\u001b[0;34m[\u001b[0m\u001b[0mj\u001b[0m\u001b[0;34m]\u001b[0m\u001b[0;34m+\u001b[0m\u001b[0meuclidean\u001b[0m\u001b[0;34m(\u001b[0m\u001b[0mlastpoint\u001b[0m\u001b[0;34m,\u001b[0m \u001b[0;34m[\u001b[0m\u001b[0mi\u001b[0m\u001b[0;34m,\u001b[0m\u001b[0mj\u001b[0m\u001b[0;34m]\u001b[0m\u001b[0;34m)\u001b[0m\u001b[0;34m/\u001b[0m\u001b[0;34m(\u001b[0m\u001b[0;34m(\u001b[0m\u001b[0;36m2\u001b[0m\u001b[0;34m*\u001b[0m\u001b[0;34m(\u001b[0m\u001b[0mself\u001b[0m\u001b[0;34m.\u001b[0m\u001b[0mprob_map\u001b[0m\u001b[0;34m.\u001b[0m\u001b[0msize\u001b[0m\u001b[0;34m**\u001b[0m\u001b[0;36m2\u001b[0m\u001b[0;34m)\u001b[0m\u001b[0;34m)\u001b[0m\u001b[0;34m**\u001b[0m\u001b[0;36m0.5\u001b[0m\u001b[0;34m)\u001b[0m\u001b[0;34m\u001b[0m\u001b[0m\n\u001b[0m\u001b[1;32m     98\u001b[0m                     \u001b[0mself\u001b[0m\u001b[0;34m.\u001b[0m\u001b[0mqueue\u001b[0m\u001b[0;34m.\u001b[0m\u001b[0mput\u001b[0m\u001b[0;34m(\u001b[0m\u001b[0;34m[\u001b[0m\u001b[0mnprob\u001b[0m\u001b[0;34m,\u001b[0m \u001b[0;34m[\u001b[0m\u001b[0mi\u001b[0m\u001b[0;34m,\u001b[0m \u001b[0mj\u001b[0m\u001b[0;34m]\u001b[0m\u001b[0;34m]\u001b[0m\u001b[0;34m)\u001b[0m\u001b[0;34m\u001b[0m\u001b[0m\n\u001b[1;32m     99\u001b[0m \u001b[0;34m\u001b[0m\u001b[0m\n",
      "\u001b[0;31mKeyboardInterrupt\u001b[0m: "
     ]
    }
   ],
   "source": [
    "import numpy as np\n",
    "\n",
    "%run \"WeightedGreedy.py\"\n",
    "%run \"Map.py\"\n",
    "\n",
    "successes=[]\n",
    "distances=[]\n",
    "steps=[]\n",
    "SIZE = 50\n",
    "NUM_OBJECTS = 1\n",
    "\n",
    "\n",
    "for s in range(100):\n",
    "    # Inicializar Mapas de: probabilidad de falla (15-40%), ubicacion, mapa probabilidades, countMap\n",
    "    fail_prob = FailProbMap(SIZE)\n",
    "    object_map = ObjectMap(SIZE, NUM_OBJECTS)\n",
    "    prob_map = ProbMap(SIZE)\n",
    "    # prob_map.generate_prob_random()\n",
    "    prob_map.generate_prob_from_map(object_map)\n",
    "    count_map = CountMap(SIZE)\n",
    "    greedy = WeightedGreedy(prob_map, count_map)\n",
    "    res=(greedy.iterate_distance(object_map, fail_prob, coloring=False, print=False))\n",
    "    successes.append(res[2])\n",
    "    distances.append(res[1])\n",
    "    steps.append(res[0])\n",
    "\n",
    "print(\"Performance with weighted probability by distance\")\n",
    "print_summary(successes, distances, steps)\n",
    "\n",
    "for s in range(100):\n",
    "    fail_prob = FailProbMap(SIZE)\n",
    "    object_map = ObjectMap(SIZE, NUM_OBJECTS)\n",
    "    prob_map = ProbMap(SIZE)\n",
    "    # prob_map.generate_prob_random()\n",
    "    prob_map.generate_prob_from_map(object_map)\n",
    "    count_map = CountMap(SIZE)\n",
    "    greedy = WeightedGreedy(prob_map, count_map)\n",
    "    res=(greedy.iterate(object_map, fail_prob, coloring=False, print=False))\n",
    "    successes.append(res[2])\n",
    "    distances.append(res[1])\n",
    "    steps.append(res[0])\n",
    "\n",
    "print(\"Performance with greedy algorithm\")\n",
    "print_summary(successes, distances, steps)\n"
   ]
  },
  {
   "cell_type": "code",
   "execution_count": 33,
   "metadata": {},
   "outputs": [],
   "source": [
    "SIZE = 10\n",
    "NUM_OBJECTS = 1\n",
    "\n",
    "fail_prob = FailProbMap(SIZE)\n",
    "object_map = ObjectMap(SIZE, NUM_OBJECTS)\n",
    "prob_map = ProbMap(SIZE)\n",
    "prob_map.generate_prob_from_map(object_map)\n",
    "count_map = CountMap(SIZE)\n",
    "greedy = WeightedGreedy(prob_map, count_map)\n",
    "res=(greedy.iterate_distance(object_map, fail_prob, coloring=True, print=False))\n",
    "successes.append(res[2])\n",
    "distances.append(res[1])\n",
    "steps.append(res[0])\n"
   ]
  },
  {
   "cell_type": "code",
   "execution_count": null,
   "metadata": {},
   "outputs": [],
   "source": []
  }
 ],
 "metadata": {
  "kernelspec": {
   "display_name": "Python 3",
   "language": "python",
   "name": "python3"
  },
  "language_info": {
   "codemirror_mode": {
    "name": "ipython",
    "version": 3
   },
   "file_extension": ".py",
   "mimetype": "text/x-python",
   "name": "python",
   "nbconvert_exporter": "python",
   "pygments_lexer": "ipython3",
   "version": "3.5.4"
  }
 },
 "nbformat": 4,
 "nbformat_minor": 2
}
